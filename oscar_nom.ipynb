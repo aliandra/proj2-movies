{
 "cells": [
  {
   "cell_type": "code",
   "execution_count": 4,
   "metadata": {
    "collapsed": true
   },
   "outputs": [],
   "source": [
    "import pandas as pd\n",
    "from collections import defaultdict\n",
    "import pickle"
   ]
  },
  {
   "cell_type": "code",
   "execution_count": 5,
   "metadata": {
    "collapsed": false
   },
   "outputs": [],
   "source": [
    "# Wikipedia: all nominations for Best Actor, Actress, Supporting Actor, Supporting Actress\n",
    "df_actors = pd.read_csv('data/actor_nom.csv')\n",
    "\n",
    "# Wikipedia: all nominations for Best Director\n",
    "df_directors = pd.read_csv('data/director_nom.csv')\n",
    "\n",
    "# WikipediaL all nominations for Best original and adapted screenplay\n",
    "df_writers = pd.read_csv('data/writers_nom.csv')"
   ]
  },
  {
   "cell_type": "code",
   "execution_count": 6,
   "metadata": {
    "collapsed": false
   },
   "outputs": [
    {
     "data": {
      "text/html": [
       "<div>\n",
       "<table border=\"1\" class=\"dataframe\">\n",
       "  <thead>\n",
       "    <tr style=\"text-align: right;\">\n",
       "      <th></th>\n",
       "      <th>Year</th>\n",
       "      <th>Actor</th>\n",
       "      <th>Film</th>\n",
       "      <th>Role(s)</th>\n",
       "    </tr>\n",
       "  </thead>\n",
       "  <tbody>\n",
       "    <tr>\n",
       "      <th>0</th>\n",
       "      <td>1927/28\\n(1st)</td>\n",
       "      <td>Emil Jannings [A]</td>\n",
       "      <td>The Last Command\\nThe Way of All Flesh</td>\n",
       "      <td>Grand Duke Sergius Alexander\\nAugust Schilling</td>\n",
       "    </tr>\n",
       "    <tr>\n",
       "      <th>1</th>\n",
       "      <td>NaN</td>\n",
       "      <td>Richard Barthelmess</td>\n",
       "      <td>The Noose\\nThe Patent Leather Kid</td>\n",
       "      <td>Nickie Elkins\\nPatent Leather Kid</td>\n",
       "    </tr>\n",
       "    <tr>\n",
       "      <th>2</th>\n",
       "      <td>1928/29\\n(2nd)</td>\n",
       "      <td>Warner Baxter</td>\n",
       "      <td>In Old Arizona</td>\n",
       "      <td>The Cisco Kid</td>\n",
       "    </tr>\n",
       "    <tr>\n",
       "      <th>3</th>\n",
       "      <td>NaN</td>\n",
       "      <td>George Bancroft</td>\n",
       "      <td>Thunderbolt</td>\n",
       "      <td>Thunderbolt Jim Lang</td>\n",
       "    </tr>\n",
       "    <tr>\n",
       "      <th>4</th>\n",
       "      <td>NaN</td>\n",
       "      <td>Chester Morris</td>\n",
       "      <td>Alibi</td>\n",
       "      <td>Chick Williams (No. 1065)</td>\n",
       "    </tr>\n",
       "  </tbody>\n",
       "</table>\n",
       "</div>"
      ],
      "text/plain": [
       "             Year                Actor  \\\n",
       "0  1927/28\\n(1st)    Emil Jannings [A]   \n",
       "1             NaN  Richard Barthelmess   \n",
       "2  1928/29\\n(2nd)        Warner Baxter   \n",
       "3             NaN      George Bancroft   \n",
       "4             NaN       Chester Morris   \n",
       "\n",
       "                                     Film  \\\n",
       "0  The Last Command\\nThe Way of All Flesh   \n",
       "1       The Noose\\nThe Patent Leather Kid   \n",
       "2                          In Old Arizona   \n",
       "3                             Thunderbolt   \n",
       "4                                   Alibi   \n",
       "\n",
       "                                          Role(s)  \n",
       "0  Grand Duke Sergius Alexander\\nAugust Schilling  \n",
       "1               Nickie Elkins\\nPatent Leather Kid  \n",
       "2                                   The Cisco Kid  \n",
       "3                            Thunderbolt Jim Lang  \n",
       "4                       Chick Williams (No. 1065)  "
      ]
     },
     "execution_count": 6,
     "metadata": {},
     "output_type": "execute_result"
    }
   ],
   "source": [
    "df_actors.head()"
   ]
  },
  {
   "cell_type": "code",
   "execution_count": 7,
   "metadata": {
    "collapsed": false
   },
   "outputs": [
    {
     "data": {
      "text/html": [
       "<div>\n",
       "<table border=\"1\" class=\"dataframe\">\n",
       "  <thead>\n",
       "    <tr style=\"text-align: right;\">\n",
       "      <th></th>\n",
       "      <th>Year</th>\n",
       "      <th>Director(s)</th>\n",
       "      <th>Film</th>\n",
       "    </tr>\n",
       "  </thead>\n",
       "  <tbody>\n",
       "    <tr>\n",
       "      <th>0</th>\n",
       "      <td>1927/28\\n(1st)</td>\n",
       "      <td>Frank Borzage (Dramatic)</td>\n",
       "      <td>7th Heaven</td>\n",
       "    </tr>\n",
       "    <tr>\n",
       "      <th>1</th>\n",
       "      <td>NaN</td>\n",
       "      <td>Herbert Brenon (Dramatic)</td>\n",
       "      <td>Sorrell and Son</td>\n",
       "    </tr>\n",
       "    <tr>\n",
       "      <th>2</th>\n",
       "      <td>NaN</td>\n",
       "      <td>King Vidor (Dramatic)</td>\n",
       "      <td>The Crowd</td>\n",
       "    </tr>\n",
       "    <tr>\n",
       "      <th>3</th>\n",
       "      <td>NaN</td>\n",
       "      <td>Lewis Milestone (Comedy)</td>\n",
       "      <td>Two Arabian Knights</td>\n",
       "    </tr>\n",
       "    <tr>\n",
       "      <th>4</th>\n",
       "      <td>NaN</td>\n",
       "      <td>Ted Wilde (Comedy)</td>\n",
       "      <td>Speedy</td>\n",
       "    </tr>\n",
       "  </tbody>\n",
       "</table>\n",
       "</div>"
      ],
      "text/plain": [
       "             Year                Director(s)                 Film\n",
       "0  1927/28\\n(1st)   Frank Borzage (Dramatic)           7th Heaven\n",
       "1             NaN  Herbert Brenon (Dramatic)      Sorrell and Son\n",
       "2             NaN      King Vidor (Dramatic)            The Crowd\n",
       "3             NaN   Lewis Milestone (Comedy)  Two Arabian Knights\n",
       "4             NaN         Ted Wilde (Comedy)               Speedy"
      ]
     },
     "execution_count": 7,
     "metadata": {},
     "output_type": "execute_result"
    }
   ],
   "source": [
    "df_directors.head()"
   ]
  },
  {
   "cell_type": "code",
   "execution_count": 8,
   "metadata": {
    "collapsed": false
   },
   "outputs": [
    {
     "data": {
      "text/html": [
       "<div>\n",
       "<table border=\"1\" class=\"dataframe\">\n",
       "  <thead>\n",
       "    <tr style=\"text-align: right;\">\n",
       "      <th></th>\n",
       "      <th>Year</th>\n",
       "      <th>Screenwriter(s)</th>\n",
       "      <th>Film</th>\n",
       "    </tr>\n",
       "  </thead>\n",
       "  <tbody>\n",
       "    <tr>\n",
       "      <th>0</th>\n",
       "      <td>1940\\n(13th)</td>\n",
       "      <td>Preston Sturges</td>\n",
       "      <td>The Great McGinty</td>\n",
       "    </tr>\n",
       "    <tr>\n",
       "      <th>1</th>\n",
       "      <td>NaN</td>\n",
       "      <td>Ben Hecht</td>\n",
       "      <td>Angels Over Broadway</td>\n",
       "    </tr>\n",
       "    <tr>\n",
       "      <th>2</th>\n",
       "      <td>NaN</td>\n",
       "      <td>Norman Burnside\\nHeinz Herald\\nJohn Huston</td>\n",
       "      <td>Dr. Ehrlich's Magic Bullet</td>\n",
       "    </tr>\n",
       "    <tr>\n",
       "      <th>3</th>\n",
       "      <td>NaN</td>\n",
       "      <td>Charles Bennett\\nJoan Harrison</td>\n",
       "      <td>Foreign Correspondent</td>\n",
       "    </tr>\n",
       "    <tr>\n",
       "      <th>4</th>\n",
       "      <td>NaN</td>\n",
       "      <td>Charlie Chaplin</td>\n",
       "      <td>The Great Dictator</td>\n",
       "    </tr>\n",
       "  </tbody>\n",
       "</table>\n",
       "</div>"
      ],
      "text/plain": [
       "           Year                             Screenwriter(s)  \\\n",
       "0  1940\\n(13th)                             Preston Sturges   \n",
       "1           NaN                                   Ben Hecht   \n",
       "2           NaN  Norman Burnside\\nHeinz Herald\\nJohn Huston   \n",
       "3           NaN              Charles Bennett\\nJoan Harrison   \n",
       "4           NaN                             Charlie Chaplin   \n",
       "\n",
       "                         Film  \n",
       "0           The Great McGinty  \n",
       "1        Angels Over Broadway  \n",
       "2  Dr. Ehrlich's Magic Bullet  \n",
       "3       Foreign Correspondent  \n",
       "4          The Great Dictator  "
      ]
     },
     "execution_count": 8,
     "metadata": {},
     "output_type": "execute_result"
    }
   ],
   "source": [
    "df_writers.head()"
   ]
  },
  {
   "cell_type": "code",
   "execution_count": 9,
   "metadata": {
    "collapsed": false
   },
   "outputs": [],
   "source": [
    "# clean actor data\n",
    "actors = df_actors.Actor\n",
    "actors = actors.str.replace('\\[.*$', '')\n",
    "actors = actors.str.replace('*', '')\n",
    "actors = actors.str.replace('§', '')\n",
    "actors = actors.str.replace('^', '')\n",
    "actors = actors.str.strip()"
   ]
  },
  {
   "cell_type": "code",
   "execution_count": 10,
   "metadata": {
    "collapsed": false
   },
   "outputs": [
    {
     "data": {
      "text/plain": [
       "0           Emil Jannings\n",
       "1     Richard Barthelmess\n",
       "2           Warner Baxter\n",
       "3         George Bancroft\n",
       "4          Chester Morris\n",
       "5               Paul Muni\n",
       "6             Lewis Stone\n",
       "7           George Arliss\n",
       "8           George Arliss\n",
       "9           Wallace Beery\n",
       "10      Maurice Chevalier\n",
       "11          Ronald Colman\n",
       "12       Lawrence Tibbett\n",
       "13       Lionel Barrymore\n",
       "14          Jackie Cooper\n",
       "15            Richard Dix\n",
       "16          Fredric March\n",
       "17         Adolphe Menjou\n",
       "18          Wallace Beery\n",
       "19          Fredric March\n",
       "Name: Actor, dtype: object"
      ]
     },
     "execution_count": 10,
     "metadata": {},
     "output_type": "execute_result"
    }
   ],
   "source": [
    "actors.head(20)"
   ]
  },
  {
   "cell_type": "code",
   "execution_count": 11,
   "metadata": {
    "collapsed": false
   },
   "outputs": [],
   "source": [
    "# pickle to use later\n",
    "with open('data/actor_nom.pk1', 'wb') as picklefile:\n",
    "    pickle.dump(actors, picklefile)"
   ]
  },
  {
   "cell_type": "code",
   "execution_count": 12,
   "metadata": {
    "collapsed": false
   },
   "outputs": [],
   "source": [
    "# clean director data\n",
    "directors = df_directors['Director(s)']\n",
    "directors = directors.str.replace('\\(.*$', '')\n",
    "directors = directors.str.strip()"
   ]
  },
  {
   "cell_type": "code",
   "execution_count": 13,
   "metadata": {
    "collapsed": false
   },
   "outputs": [
    {
     "data": {
      "text/plain": [
       "0         Frank Borzage\n",
       "1        Herbert Brenon\n",
       "2            King Vidor\n",
       "3       Lewis Milestone\n",
       "4             Ted Wilde\n",
       "5           Frank Lloyd\n",
       "6      Lionel Barrymore\n",
       "7        Harry Beaumont\n",
       "8       Irving Cummings\n",
       "9           Frank Lloyd\n",
       "10                  NaN\n",
       "11       Ernst Lubitsch\n",
       "12      Lewis Milestone\n",
       "13       Clarence Brown\n",
       "14                  NaN\n",
       "15    Robert Z. Leonard\n",
       "16       Ernst Lubitsch\n",
       "17           King Vidor\n",
       "18        Norman Taurog\n",
       "19       Clarence Brown\n",
       "Name: Director(s), dtype: object"
      ]
     },
     "execution_count": 13,
     "metadata": {},
     "output_type": "execute_result"
    }
   ],
   "source": [
    "directors.head(20)"
   ]
  },
  {
   "cell_type": "code",
   "execution_count": 14,
   "metadata": {
    "collapsed": true
   },
   "outputs": [],
   "source": [
    "# pickel for later\n",
    "with open('data/director_nom.pk1', 'wb') as picklefile:\n",
    "    pickle.dump(directors, picklefile)"
   ]
  },
  {
   "cell_type": "code",
   "execution_count": 17,
   "metadata": {
    "collapsed": false
   },
   "outputs": [
    {
     "data": {
      "text/plain": [
       "0          Preston Sturges\n",
       "1                Ben Hecht\n",
       "2          Norman Burnside\n",
       "3             Heinz Herald\n",
       "4              John Huston\n",
       "5          Charles Bennett\n",
       "6            Joan Harrison\n",
       "7          Charlie Chaplin\n",
       "8     Herman J. Mankiewicz\n",
       "9             Orson Welles\n",
       "10           Norman Krasna\n",
       "11          Harry Chandlee\n",
       "12             Abem Finkel\n",
       "13             John Huston\n",
       "14          Howard E. Koch\n",
       "15            Karl Tunberg\n",
       "16            Darrell Ware\n",
       "17            Paul Jarrico\n",
       "18           Michael Kanin\n",
       "19        Ring Lardner Jr.\n",
       "Name: writer, dtype: object"
      ]
     },
     "execution_count": 17,
     "metadata": {},
     "output_type": "execute_result"
    }
   ],
   "source": [
    "# clean writer data\n",
    "writers = df_writers['Screenwriter(s)']\n",
    "writers = writers.str.replace('\\\\n', ',')\n",
    "writers = writers.str.split(',', expand=True).stack().reset_index()\n",
    "writers.columns = ['index', 'level', 'writer']\n",
    "writers_new = writers.writer\n",
    "writers_new = writers_new.str.replace('\\(.*$', '')\n",
    "writers_new = writers_new.str.strip()\n",
    "writers_new.head(20)"
   ]
  },
  {
   "cell_type": "code",
   "execution_count": 18,
   "metadata": {
    "collapsed": true
   },
   "outputs": [],
   "source": [
    "# pickle for later\n",
    "with open('data/writer_nom.pk1', 'wb') as picklefile:\n",
    "    pickle.dump(writers_new, picklefile)"
   ]
  },
  {
   "cell_type": "code",
   "execution_count": null,
   "metadata": {
    "collapsed": true
   },
   "outputs": [],
   "source": []
  }
 ],
 "metadata": {
  "anaconda-cloud": {},
  "kernelspec": {
   "display_name": "Python [conda root]",
   "language": "python",
   "name": "conda-root-py"
  },
  "language_info": {
   "codemirror_mode": {
    "name": "ipython",
    "version": 2
   },
   "file_extension": ".py",
   "mimetype": "text/x-python",
   "name": "python",
   "nbconvert_exporter": "python",
   "pygments_lexer": "ipython2",
   "version": "2.7.12"
  }
 },
 "nbformat": 4,
 "nbformat_minor": 1
}
