{
 "cells": [
  {
   "cell_type": "code",
   "execution_count": 80,
   "metadata": {
    "collapsed": true
   },
   "outputs": [],
   "source": [
    "import requests\n",
    "import re\n",
    "\n",
    "url = 'http://www.boxofficemojo.com/movies/?page=main&id=lalaland.htm'\n",
    "\n",
    "response = requests.get(url)"
   ]
  },
  {
   "cell_type": "code",
   "execution_count": 81,
   "metadata": {
    "collapsed": false
   },
   "outputs": [
    {
     "data": {
      "text/plain": [
       "200"
      ]
     },
     "execution_count": 81,
     "metadata": {},
     "output_type": "execute_result"
    }
   ],
   "source": [
    "response.status_code"
   ]
  },
  {
   "cell_type": "code",
   "execution_count": 82,
   "metadata": {
    "collapsed": true
   },
   "outputs": [],
   "source": [
    "page = response.text"
   ]
  },
  {
   "cell_type": "code",
   "execution_count": 83,
   "metadata": {
    "collapsed": false,
    "scrolled": true
   },
   "outputs": [],
   "source": [
    "from bs4 import BeautifulSoup\n",
    "\n",
    "soup = BeautifulSoup(page, 'lxml')"
   ]
  },
  {
   "cell_type": "code",
   "execution_count": 84,
   "metadata": {
    "collapsed": false
   },
   "outputs": [
    {
     "name": "stdout",
     "output_type": "stream",
     "text": [
      "La La Land Lionsgate/Summit December 9, 2016 Musical 2 hrs. 8 min. PG-13 $30 million\n"
     ]
    }
   ],
   "source": [
    "title = soup.find_all('b')[1].text\n",
    "studio = soup.find_all('b')[3].text\n",
    "release = soup.find_all('b')[4].text\n",
    "genre = soup.find_all('b')[5].text\n",
    "run_time = soup.find_all('b')[6].text\n",
    "mpaa_rating = soup.find_all('b')[7].text\n",
    "budget = soup.find_all('b')[8].text\n",
    "\n",
    "print title, studio, release, genre, run_time, mpaa_rating, budget"
   ]
  },
  {
   "cell_type": "code",
   "execution_count": 90,
   "metadata": {
    "collapsed": false
   },
   "outputs": [
    {
     "ename": "ImportError",
     "evalue": "No module named Scrapy",
     "output_type": "error",
     "traceback": [
      "\u001b[0;31m---------------------------------------------------------------------------\u001b[0m",
      "\u001b[0;31mImportError\u001b[0m                               Traceback (most recent call last)",
      "\u001b[0;32m<ipython-input-90-f7f6af7dab6c>\u001b[0m in \u001b[0;36m<module>\u001b[0;34m()\u001b[0m\n\u001b[0;32m----> 1\u001b[0;31m \u001b[0;32mimport\u001b[0m \u001b[0mScrapy\u001b[0m\u001b[0;34m\u001b[0m\u001b[0m\n\u001b[0m",
      "\u001b[0;31mImportError\u001b[0m: No module named Scrapy"
     ]
    }
   ],
   "source": [
    "import Scrapy\n"
   ]
  },
  {
   "cell_type": "code",
   "execution_count": 85,
   "metadata": {
    "collapsed": false
   },
   "outputs": [],
   "source": [
    "def get_movie_value(soup, field_name):\n",
    "    '''Grab a value from boxofficemojo HTML\n",
    "    \n",
    "    Takes a string attribute of a movie on the page and\n",
    "    returns the string in the next sibling object\n",
    "    (the value for that attribute)\n",
    "    or None if nothing is found.\n",
    "    '''\n",
    "    obj = soup.find(text=re.compile(field_name))\n",
    "    if not obj: \n",
    "        return None\n",
    "    # this works for most of the values\n",
    "    next_sibling = obj.findNextSibling()\n",
    "    if next_sibling:\n",
    "        return next_sibling.text \n",
    "    else:\n",
    "        return None"
   ]
  },
  {
   "cell_type": "code",
   "execution_count": 89,
   "metadata": {
    "collapsed": false
   },
   "outputs": [],
   "source": [
    "obj = soup.find(text=re.compile('Domestic Total'))\n",
    "next_sibling = obj.findNextSibling()\n",
    "next_sibling"
   ]
  },
  {
   "cell_type": "code",
   "execution_count": 86,
   "metadata": {
    "collapsed": false
   },
   "outputs": [
    {
     "name": "stdout",
     "output_type": "stream",
     "text": [
      "None\n"
     ]
    }
   ],
   "source": [
    "# domestic total gross\n",
    "dtg = get_movie_value(soup,'Domestic Total')\n",
    "print(dtg)"
   ]
  },
  {
   "cell_type": "code",
   "execution_count": 69,
   "metadata": {
    "collapsed": false
   },
   "outputs": [
    {
     "data": {
      "text/plain": [
       "[<b>Adjuster:</b>,\n",
       " <b>La La Land</b>,\n",
       " <b>$78,929,262</b>,\n",
       " <b><a href=\"/studio/chart/?studio=lionsgatesummit.htm\">Lionsgate/Summit</a></b>,\n",
       " <b><nobr><a href=\"/schedule/?view=bydate&amp;release=theatrical&amp;date=2016-12-09&amp;p=.htm\">December 9, 2016</a></nobr></b>,\n",
       " <b>Musical</b>,\n",
       " <b>2 hrs. 8 min.</b>,\n",
       " <b>PG-13</b>,\n",
       " <b>$30 million</b>,\n",
       " <b>Domestic:</b>,\n",
       " <b>$78,929,262</b>,\n",
       " <b>58.9%</b>,\n",
       " <b>Worldwide:</b>,\n",
       " <b>$133,929,262</b>,\n",
       " <b>\\xa0<a href=\"/schedule/?view=bydate&amp;release=theatrical&amp;date=2016-12-09&amp;p=.htm\">December 9, 2016</a></b>,\n",
       " <b>\\xa0<a href=\"/schedule/?view=bydate&amp;release=theatrical&amp;date=2016-12-25&amp;p=.htm\">December 25, 2016</a></b>,\n",
       " <b>\\xa0$881,104</b>,\n",
       " <b>&gt; View All 6 Weekends</b>,\n",
       " <b>Hollywood / Movies</b>,\n",
       " <b>10</b>,\n",
       " <b>Chart</b>,\n",
       " <b>Rank</b>,\n",
       " <b>Theater Averages - Opening Weekends</b>,\n",
       " <b>10</b>,\n",
       " <b>Smallest Drops, All Wide Releases</b>,\n",
       " <b>7</b>,\n",
       " <b>Charts (Premier Pass Users Only)</b>,\n",
       " <b>Rank</b>]"
      ]
     },
     "execution_count": 69,
     "metadata": {},
     "output_type": "execute_result"
    }
   ],
   "source": [
    "soup.find_all('b')"
   ]
  },
  {
   "cell_type": "code",
   "execution_count": null,
   "metadata": {
    "collapsed": true
   },
   "outputs": [],
   "source": []
  }
 ],
 "metadata": {
  "anaconda-cloud": {},
  "kernelspec": {
   "display_name": "Python [conda root]",
   "language": "python",
   "name": "conda-root-py"
  },
  "language_info": {
   "codemirror_mode": {
    "name": "ipython",
    "version": 2
   },
   "file_extension": ".py",
   "mimetype": "text/x-python",
   "name": "python",
   "nbconvert_exporter": "python",
   "pygments_lexer": "ipython2",
   "version": "2.7.12"
  }
 },
 "nbformat": 4,
 "nbformat_minor": 1
}
