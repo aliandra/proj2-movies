{
 "cells": [
  {
   "cell_type": "code",
   "execution_count": 253,
   "metadata": {
    "collapsed": true
   },
   "outputs": [],
   "source": [
    "import json\n",
    "import pandas as pd\n",
    "import numpy as np\n",
    "import matplotlib.pyplot as plt"
   ]
  },
  {
   "cell_type": "code",
   "execution_count": 258,
   "metadata": {
    "collapsed": false
   },
   "outputs": [],
   "source": [
    "with open('movies_scrapy/movies.json') as json_data:\n",
    "    d = json.load(json_data)\n"
   ]
  },
  {
   "cell_type": "code",
   "execution_count": 259,
   "metadata": {
    "collapsed": false
   },
   "outputs": [],
   "source": [
    "def to_string(x):\n",
    "    new = x.strip('\\n').strip()\n",
    "    return new"
   ]
  },
  {
   "cell_type": "code",
   "execution_count": 260,
   "metadata": {
    "collapsed": false,
    "scrolled": false
   },
   "outputs": [],
   "source": [
    "df = pd.DataFrame(d)\n",
    "df.release = df.release.apply(lambda x: np.nan if len(x)==0 else x)\n",
    "df.meta_score = df.meta_score.apply(lambda x: np.nan if len(x)==0 else x)"
   ]
  },
  {
   "cell_type": "code",
   "execution_count": 261,
   "metadata": {
    "collapsed": false,
    "scrolled": true
   },
   "outputs": [],
   "source": [
    "df['budget'] = df['budget'].apply(lambda x: x[1])\n",
    "df['budget'] = df['budget'].apply(to_string)\n",
    "df['director'] = df['director'].apply(lambda x: x[0])\n",
    "df['imdb_rating'] = df['imdb_rating'].apply(lambda x: x[0])\n",
    "#df['meta_score'] = df['meta_score'].apply(lambda x: x[0])\n",
    "df['opening_weekend'] = df['opening_weekend'].apply(lambda x: x[1])\n",
    "df['opening_weekend'] = df['opening_weekend'].apply(to_string)\n",
    "df['rating'] = df['rating'].apply(to_string)\n",
    "df['release'] = df['release'].apply(lambda x: x[0] if isinstance(x, list) else np.nan)\n",
    "df['runtime'] = df['runtime'].apply(lambda x: x[0])"
   ]
  },
  {
   "cell_type": "code",
   "execution_count": null,
   "metadata": {
    "collapsed": false
   },
   "outputs": [],
   "source": []
  },
  {
   "cell_type": "code",
   "execution_count": 262,
   "metadata": {
    "collapsed": false,
    "scrolled": false
   },
   "outputs": [
    {
     "data": {
      "text/html": [
       "<div>\n",
       "<table border=\"1\" class=\"dataframe\">\n",
       "  <thead>\n",
       "    <tr style=\"text-align: right;\">\n",
       "      <th></th>\n",
       "      <th>actors</th>\n",
       "      <th>budget</th>\n",
       "      <th>director</th>\n",
       "      <th>genre</th>\n",
       "      <th>imdb_rating</th>\n",
       "      <th>meta_score</th>\n",
       "      <th>opening_weekend</th>\n",
       "      <th>rating</th>\n",
       "      <th>release</th>\n",
       "      <th>runtime</th>\n",
       "      <th>title</th>\n",
       "      <th>writer</th>\n",
       "    </tr>\n",
       "  </thead>\n",
       "  <tbody>\n",
       "    <tr>\n",
       "      <th>0</th>\n",
       "      <td>[John Travolta, Uma Thurman, Samuel L. Jackson]</td>\n",
       "      <td>$8,000,000</td>\n",
       "      <td>Quentin Tarantino</td>\n",
       "      <td>[ Crime,  Drama]</td>\n",
       "      <td>8.9</td>\n",
       "      <td>[94]</td>\n",
       "      <td>£4,243,233        \\n\\n      (UK)</td>\n",
       "      <td>R</td>\n",
       "      <td>NaN</td>\n",
       "      <td>\\n                        2h 34min\\n          ...</td>\n",
       "      <td>[Pulp Fiction (1994) - IMDb]</td>\n",
       "      <td>Quentin Tarantino</td>\n",
       "    </tr>\n",
       "    <tr>\n",
       "      <th>1</th>\n",
       "      <td>[Leonardo DiCaprio, Emily Mortimer, Mark Ruffalo]</td>\n",
       "      <td>$80,000,000</td>\n",
       "      <td>Martin Scorsese</td>\n",
       "      <td>[ Mystery,  Thriller]</td>\n",
       "      <td>8.1</td>\n",
       "      <td>[63]</td>\n",
       "      <td>$41,062,440        \\n\\n      (USA)</td>\n",
       "      <td>R</td>\n",
       "      <td>NaN</td>\n",
       "      <td>\\n                        2h 18min\\n          ...</td>\n",
       "      <td>[Shutter Island (2010) - IMDb]</td>\n",
       "      <td>Laeta Kalogridis</td>\n",
       "    </tr>\n",
       "    <tr>\n",
       "      <th>2</th>\n",
       "      <td>[Bruce Willis, Helen Mirren, Morgan Freeman]</td>\n",
       "      <td>$58,000,000</td>\n",
       "      <td>Robert Schwentke</td>\n",
       "      <td>[ Action,  Comedy,  Crime,  Thriller]</td>\n",
       "      <td>7.1</td>\n",
       "      <td>[60]</td>\n",
       "      <td>$21,761,408        \\n\\n      (USA)</td>\n",
       "      <td>PG-13</td>\n",
       "      <td>15 October 2010 (USA)\\n</td>\n",
       "      <td>\\n                        1h 51min\\n          ...</td>\n",
       "      <td>[RED (2010) - IMDb]</td>\n",
       "      <td>Jon Hoeber</td>\n",
       "    </tr>\n",
       "    <tr>\n",
       "      <th>3</th>\n",
       "      <td>[Aaron Taylor-Johnson, Nicolas Cage, Chloë Gra...</td>\n",
       "      <td>$30,000,000</td>\n",
       "      <td>Matthew Vaughn</td>\n",
       "      <td>[ Action,  Comedy]</td>\n",
       "      <td>7.7</td>\n",
       "      <td>[66]</td>\n",
       "      <td>£3,881,704        \\n\\n      (UK)</td>\n",
       "      <td>R</td>\n",
       "      <td>NaN</td>\n",
       "      <td>\\n                        1h 57min\\n          ...</td>\n",
       "      <td>[Kick-Ass (2010) - IMDb]</td>\n",
       "      <td>Jane Goldman</td>\n",
       "    </tr>\n",
       "    <tr>\n",
       "      <th>4</th>\n",
       "      <td>[Robert Downey Jr., Mickey Rourke, Gwyneth Pal...</td>\n",
       "      <td>$200,000,000</td>\n",
       "      <td>Jon Favreau</td>\n",
       "      <td>[ Action,  Adventure,  Sci-Fi]</td>\n",
       "      <td>7.0</td>\n",
       "      <td>[57]</td>\n",
       "      <td>£7,664,732        \\n\\n      (UK)</td>\n",
       "      <td>PG-13</td>\n",
       "      <td>7 May 2010 (USA)\\n</td>\n",
       "      <td>\\n                        2h 4min\\n           ...</td>\n",
       "      <td>[Iron Man 2 (2010) - IMDb]</td>\n",
       "      <td>Justin Theroux</td>\n",
       "    </tr>\n",
       "  </tbody>\n",
       "</table>\n",
       "</div>"
      ],
      "text/plain": [
       "                                              actors        budget  \\\n",
       "0    [John Travolta, Uma Thurman, Samuel L. Jackson]    $8,000,000   \n",
       "1  [Leonardo DiCaprio, Emily Mortimer, Mark Ruffalo]   $80,000,000   \n",
       "2       [Bruce Willis, Helen Mirren, Morgan Freeman]   $58,000,000   \n",
       "3  [Aaron Taylor-Johnson, Nicolas Cage, Chloë Gra...   $30,000,000   \n",
       "4  [Robert Downey Jr., Mickey Rourke, Gwyneth Pal...  $200,000,000   \n",
       "\n",
       "            director                                  genre imdb_rating  \\\n",
       "0  Quentin Tarantino                       [ Crime,  Drama]         8.9   \n",
       "1    Martin Scorsese                  [ Mystery,  Thriller]         8.1   \n",
       "2   Robert Schwentke  [ Action,  Comedy,  Crime,  Thriller]         7.1   \n",
       "3     Matthew Vaughn                     [ Action,  Comedy]         7.7   \n",
       "4        Jon Favreau         [ Action,  Adventure,  Sci-Fi]         7.0   \n",
       "\n",
       "  meta_score                     opening_weekend rating  \\\n",
       "0       [94]    £4,243,233        \\n\\n      (UK)      R   \n",
       "1       [63]  $41,062,440        \\n\\n      (USA)      R   \n",
       "2       [60]  $21,761,408        \\n\\n      (USA)  PG-13   \n",
       "3       [66]    £3,881,704        \\n\\n      (UK)      R   \n",
       "4       [57]    £7,664,732        \\n\\n      (UK)  PG-13   \n",
       "\n",
       "                   release                                            runtime  \\\n",
       "0                      NaN  \\n                        2h 34min\\n          ...   \n",
       "1                      NaN  \\n                        2h 18min\\n          ...   \n",
       "2  15 October 2010 (USA)\\n  \\n                        1h 51min\\n          ...   \n",
       "3                      NaN  \\n                        1h 57min\\n          ...   \n",
       "4       7 May 2010 (USA)\\n  \\n                        2h 4min\\n           ...   \n",
       "\n",
       "                            title             writer  \n",
       "0    [Pulp Fiction (1994) - IMDb]  Quentin Tarantino  \n",
       "1  [Shutter Island (2010) - IMDb]   Laeta Kalogridis  \n",
       "2             [RED (2010) - IMDb]         Jon Hoeber  \n",
       "3        [Kick-Ass (2010) - IMDb]       Jane Goldman  \n",
       "4      [Iron Man 2 (2010) - IMDb]     Justin Theroux  "
      ]
     },
     "execution_count": 262,
     "metadata": {},
     "output_type": "execute_result"
    }
   ],
   "source": [
    "df.head()\n"
   ]
  },
  {
   "cell_type": "code",
   "execution_count": 221,
   "metadata": {
    "collapsed": false
   },
   "outputs": [
    {
     "data": {
      "text/plain": [
       "list"
      ]
     },
     "execution_count": 221,
     "metadata": {},
     "output_type": "execute_result"
    }
   ],
   "source": [
    "type(df.iloc[2,8])"
   ]
  },
  {
   "cell_type": "code",
   "execution_count": null,
   "metadata": {
    "collapsed": true
   },
   "outputs": [],
   "source": []
  }
 ],
 "metadata": {
  "anaconda-cloud": {},
  "kernelspec": {
   "display_name": "Python [conda root]",
   "language": "python",
   "name": "conda-root-py"
  },
  "language_info": {
   "codemirror_mode": {
    "name": "ipython",
    "version": 2
   },
   "file_extension": ".py",
   "mimetype": "text/x-python",
   "name": "python",
   "nbconvert_exporter": "python",
   "pygments_lexer": "ipython2",
   "version": "2.7.12"
  }
 },
 "nbformat": 4,
 "nbformat_minor": 1
}
